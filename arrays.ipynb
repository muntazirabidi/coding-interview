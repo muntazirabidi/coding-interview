{
 "cells": [
  {
   "cell_type": "markdown",
   "metadata": {},
   "source": [
    "Q: Write an algorithm to determine if a string has all unique characters. What if you cannot use additional data structures?"
   ]
  },
  {
   "cell_type": "code",
   "execution_count": 10,
   "metadata": {},
   "outputs": [
    {
     "name": "stdout",
     "output_type": "stream",
     "text": [
      "False\n"
     ]
    }
   ],
   "source": [
    "from typing import Set\n",
    "\n",
    "def isUniqueChars(string: str) -> bool:\n",
    "    \"\"\"\n",
    "    Determine if a string has all unique characters.\n",
    "\n",
    "    Args:\n",
    "        string (str): The input string to check.\n",
    "\n",
    "    Returns:\n",
    "        bool: True if the string has all unique characters, False otherwise.\n",
    "    \"\"\"\n",
    "    \n",
    "    seen: Set[str] = set()\n",
    "    \n",
    "    for char in string:\n",
    "      if char in seen:\n",
    "        return False\n",
    "      seen.add(char)\n",
    "    \n",
    "    return True\n",
    "\n",
    "\n",
    "s = 'hello'\n",
    "  \n",
    "print(isUniqueChars(s)) # False"
   ]
  },
  {
   "cell_type": "markdown",
   "metadata": {},
   "source": [
    "## Question 2 : Check Permutation\n",
    "Q; Given two strings, write a method to decide if one is a permutation of the other?\n",
    "\n",
    "For this type of the question we need to ask: if it should be case sensitive or not. If white spaces are significant."
   ]
  },
  {
   "cell_type": "code",
   "execution_count": 11,
   "metadata": {},
   "outputs": [],
   "source": [
    "def isPermutation(string1: str, string2: str) -> bool:\n",
    "    \"\"\"\n",
    "    Determine if two strings are permutations of each other.\n",
    "\n",
    "    Args:\n",
    "        string1 (str): The first input string.\n",
    "        string2 (str): The second input string.\n",
    "\n",
    "    Returns:\n",
    "        bool: True if the strings are permutations of each other, False otherwise.\n",
    "    \"\"\"\n",
    "    \n",
    "    if not isinstance(string1, str) or not isinstance(string2, str):\n",
    "      return False\n",
    "    \n",
    "    if len(string1) != len(string2):\n",
    "      return False\n",
    "    \n",
    "    \n",
    "    return sorted(string1) == sorted(string2) "
   ]
  },
  {
   "cell_type": "code",
   "execution_count": 12,
   "metadata": {},
   "outputs": [],
   "source": [
    "# Importing the function\n",
    "def test_isPermutation():\n",
    "    # Case 1: Strings that are permutations of each other\n",
    "    assert isPermutation(\"abc\", \"bca\") == True, \"Case 1 Failed\"\n",
    "    \n",
    "    # Case 2: Strings that are not permutations of each other\n",
    "    assert isPermutation(\"abc\", \"abcd\") == False, \"Case 2 Failed\"\n",
    "    assert isPermutation(\"abc\", \"def\") == False, \"Case 2 Failed\"\n",
    "    \n",
    "    # Case 3: Strings with different lengths\n",
    "    assert isPermutation(\"abc\", \"ab\") == False, \"Case 3 Failed\"\n",
    "    \n",
    "    # Case 4: Strings that are identical\n",
    "    assert isPermutation(\"aaa\", \"aaa\") == True, \"Case 4 Failed\"\n",
    "    \n",
    "    # Case 5: Case sensitivity\n",
    "    assert isPermutation(\"abc\", \"ABC\") == False, \"Case 5 Failed\"  # Should fail due to case difference\n",
    "    \n",
    "    # Case 6: Strings with special characters\n",
    "    assert isPermutation(\"a!b@c#\", \"!@cb#a\") == True, \"Case 6 Failed\"\n",
    "    assert isPermutation(\"123\", \"231\") == True, \"Case 6 Failed\"\n",
    "    \n",
    "    # Case 7: Empty strings\n",
    "    assert isPermutation(\"\", \"\") == True, \"Case 7 Failed\"\n",
    "    \n",
    "    # Case 8: Invalid inputs\n",
    "    assert isPermutation(\"abc\", 123) == False, \"Case 8 Failed\"  # Second input not a string\n",
    "    assert isPermutation(None, \"abc\") == False, \"Case 8 Failed\"  # First input is None\n",
    "    \n",
    "    print(\"All test cases passed!\")\n"
   ]
  },
  {
   "cell_type": "code",
   "execution_count": 13,
   "metadata": {},
   "outputs": [
    {
     "name": "stdout",
     "output_type": "stream",
     "text": [
      "All test cases passed!\n"
     ]
    }
   ],
   "source": [
    "test_isPermutation()"
   ]
  },
  {
   "cell_type": "code",
   "execution_count": 14,
   "metadata": {},
   "outputs": [
    {
     "name": "stdout",
     "output_type": "stream",
     "text": [
      "False\n"
     ]
    }
   ],
   "source": [
    "string1 = \"abc\"\n",
    "string2 = \"ABC\"\n",
    "print(isPermutation(string1, string2))  # False"
   ]
  },
  {
   "cell_type": "markdown",
   "metadata": {},
   "source": [
    "## Q3: Palindrome Permutation\n",
    "\n",
    "Given a string, write a function to check if it is a permutation of a palindrome. A Palindrome is a word or phrases that is the same forwards and backwards. A permutation is a rearrangement of letters. The palindrome doesn not need to be limited to just dictionary words. "
   ]
  },
  {
   "cell_type": "code",
   "execution_count": 16,
   "metadata": {},
   "outputs": [],
   "source": [
    "def isPalindrom(s: str) -> bool:\n",
    "    \"\"\"\n",
    "    Determine if a string is a palindrome.\n",
    "\n",
    "    Args:\n",
    "        s (str): The input string to check.\n",
    "\n",
    "    Returns:\n",
    "        bool: True if the string is a palindrome, False otherwise.\n",
    "    \"\"\"\n",
    "    \n",
    "    s = s.lower()\n",
    "    s = ''.join([i for i in s if i.isalnum()])\n",
    "    \n",
    "    return s == s[::-1]"
   ]
  },
  {
   "cell_type": "code",
   "execution_count": 17,
   "metadata": {},
   "outputs": [
    {
     "name": "stdout",
     "output_type": "stream",
     "text": [
      "True\n",
      "True\n",
      "True\n",
      "True\n",
      "False\n",
      "False\n",
      "True\n",
      "True\n"
     ]
    }
   ],
   "source": [
    "# Standard Palindromes\n",
    "print(isPalindrom(\"madam\"))  # True\n",
    "print(isPalindrom(\"Racecar\"))  # True\n",
    "\n",
    "# Palindromes with Non-Alphanumeric Characters\n",
    "print(isPalindrom(\"A man, a plan, a canal: Panama\"))  # True\n",
    "print(isPalindrom(\"No 'x' in Nixon\"))  # True\n",
    "\n",
    "# Non-Palindromes\n",
    "print(isPalindrom(\"hello\"))  # False\n",
    "print(isPalindrom(\"Python\"))  # False\n",
    "\n",
    "# Empty String or Single Character\n",
    "print(isPalindrom(\"\"))  # True\n",
    "print(isPalindrom(\"a\"))  # True\n"
   ]
  },
  {
   "cell_type": "code",
   "execution_count": null,
   "metadata": {},
   "outputs": [],
   "source": []
  }
 ],
 "metadata": {
  "kernelspec": {
   "display_name": "Python 3",
   "language": "python",
   "name": "python3"
  },
  "language_info": {
   "codemirror_mode": {
    "name": "ipython",
    "version": 3
   },
   "file_extension": ".py",
   "mimetype": "text/x-python",
   "name": "python",
   "nbconvert_exporter": "python",
   "pygments_lexer": "ipython3",
   "version": "3.9.19"
  }
 },
 "nbformat": 4,
 "nbformat_minor": 2
}
